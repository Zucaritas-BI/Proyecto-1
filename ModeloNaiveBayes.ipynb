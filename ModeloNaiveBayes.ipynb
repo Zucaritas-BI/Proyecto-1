{
 "cells": [
  {
   "attachments": {},
   "cell_type": "markdown",
   "metadata": {},
   "source": [
    "# Proyecto 1 - Analítica de textos \n",
    "## Análisis de sentimientos en películas\n",
    "\n",
    "### Integrantes:\n",
    "- Daniel Aguilera\n",
    "- Vanessa Martínez\n",
    "- Cristian Sánchez\n",
    "\n",
    "### Descripción del problema\n",
    "El objetivo de este notebook es realizar el desarrollo de la etapa 2 para el cual, se llevara acabo el analisis de sentimiento de las opiniones de las peliculas que se encuentran en el dataset MovieReviews.csv, para este fin se utilizara el modelo de Naive Bayes para clasificar las opiniones en positivas y negativas. \n",
    "\n",
    "Se usara el modelo Naive Bayes ya que puede ofrecer resultados muy precisos en el análisis de sentimientos. Lo anterior se debe a que es capaz de identificar patrones en los datos y aprender de ellos para mejorar su rendimiento. Además, el modelo Naive Bayes funciona bien incluso cuando se tienen datos desbalanceados, lo que es común en el análisis de sentimientos.\n",
    "\n",
    "## Referencias\n",
    "1. [Datos a utilizar: MovieReviews.csv](./datos/MovieReviews.csv)\n",
    "2. [Diccionario de datos: DiccionarioPeliculas.xlsx](./datos/DiccionarioPeliculas.xlsx)\n",
    "3. [Datos de prueba: MovieReviewsPruebas.csv](./datos/MovieReviewsPruebas.csv)\n",
    "4. [Datos procesados: MovieReviewsProcesado.csv](./datos/MovieReviewsProcesado.csv)\n",
    "5. [Notebook de procesamiento y entendimiento de datos](./proy_desarrollo.ipynb)\n",
    "6. [Información del negocio](./datos/enunciado.pdf)"
   ]
  },
  {
   "cell_type": "code",
   "execution_count": 197,
   "metadata": {},
   "outputs": [],
   "source": [
    "# Realizamos los imports necesarios\n",
    "import numpy as np\n",
    "import pandas as pd\n",
    "import matplotlib.pyplot as plt\n",
    "import seaborn as sns\n",
    "\n",
    "# Importamos MLP para crear la red neuronal\n",
    "from sklearn.neural_network import MLPClassifier\n",
    "\n",
    "from sklearn.model_selection import train_test_split\n",
    "from sklearn.metrics import accuracy_score\n",
    "from sklearn.metrics import confusion_matrix\n",
    "from sklearn.metrics import classification_report, precision_score, recall_score, f1_score, accuracy_score\n",
    "from sklearn.naive_bayes import MultinomialNB, BernoulliNB\n",
    "from sklearn.feature_extraction.text import CountVectorizer\n",
    "\n",
    "# Import nltk\n",
    "import nltk\n",
    "\n",
    "# Usamos las stopwords de nltk\n",
    "from nltk.corpus import stopwords\n",
    "stop_words = stopwords.words('spanish')"
   ]
  },
  {
   "attachments": {},
   "cell_type": "markdown",
   "metadata": {},
   "source": [
    "### Una vez importadas las librerias necesarias, se procede a cargar los datos preprocessados en el notebook anterior"
   ]
  },
  {
   "cell_type": "code",
   "execution_count": 198,
   "metadata": {},
   "outputs": [
    {
     "data": {
      "text/html": [
       "<div>\n",
       "<style scoped>\n",
       "    .dataframe tbody tr th:only-of-type {\n",
       "        vertical-align: middle;\n",
       "    }\n",
       "\n",
       "    .dataframe tbody tr th {\n",
       "        vertical-align: top;\n",
       "    }\n",
       "\n",
       "    .dataframe thead th {\n",
       "        text-align: right;\n",
       "    }\n",
       "</style>\n",
       "<table border=\"1\" class=\"dataframe\">\n",
       "  <thead>\n",
       "    <tr style=\"text-align: right;\">\n",
       "      <th></th>\n",
       "      <th>Unnamed: 0</th>\n",
       "      <th>review_es</th>\n",
       "      <th>sentimiento</th>\n",
       "      <th>processed_text</th>\n",
       "    </tr>\n",
       "  </thead>\n",
       "  <tbody>\n",
       "    <tr>\n",
       "      <th>0</th>\n",
       "      <td>0</td>\n",
       "      <td>Si está buscando una película de guerra típica...</td>\n",
       "      <td>1</td>\n",
       "      <td>si busc pelicul guerr tipic asi not aficion gu...</td>\n",
       "    </tr>\n",
       "    <tr>\n",
       "      <th>1</th>\n",
       "      <td>1</td>\n",
       "      <td>Supongo que algunos directores de películas de...</td>\n",
       "      <td>1</td>\n",
       "      <td>supon director pelicul luj sent busc abrig gra...</td>\n",
       "    </tr>\n",
       "    <tr>\n",
       "      <th>2</th>\n",
       "      <td>2</td>\n",
       "      <td>Es difícil contarle más sobre esta película si...</td>\n",
       "      <td>1</td>\n",
       "      <td>dificil contar el mas pelicul estropearlal dis...</td>\n",
       "    </tr>\n",
       "    <tr>\n",
       "      <th>3</th>\n",
       "      <td>3</td>\n",
       "      <td>La película comienza muy lentamente, con el es...</td>\n",
       "      <td>1</td>\n",
       "      <td>pelicul comenz lent estil vid wallac napalm as...</td>\n",
       "    </tr>\n",
       "    <tr>\n",
       "      <th>4</th>\n",
       "      <td>4</td>\n",
       "      <td>Esta película es verdadera acción en su máxima...</td>\n",
       "      <td>1</td>\n",
       "      <td>pelicul verdader accion maxim expresion mejor ...</td>\n",
       "    </tr>\n",
       "  </tbody>\n",
       "</table>\n",
       "</div>"
      ],
      "text/plain": [
       "   Unnamed: 0                                          review_es  sentimiento  \\\n",
       "0           0  Si está buscando una película de guerra típica...            1   \n",
       "1           1  Supongo que algunos directores de películas de...            1   \n",
       "2           2  Es difícil contarle más sobre esta película si...            1   \n",
       "3           3  La película comienza muy lentamente, con el es...            1   \n",
       "4           4  Esta película es verdadera acción en su máxima...            1   \n",
       "\n",
       "                                      processed_text  \n",
       "0  si busc pelicul guerr tipic asi not aficion gu...  \n",
       "1  supon director pelicul luj sent busc abrig gra...  \n",
       "2  dificil contar el mas pelicul estropearlal dis...  \n",
       "3  pelicul comenz lent estil vid wallac napalm as...  \n",
       "4  pelicul verdader accion maxim expresion mejor ...  "
      ]
     },
     "execution_count": 198,
     "metadata": {},
     "output_type": "execute_result"
    }
   ],
   "source": [
    "# Cargamos el dataset\n",
    "df_peliculas = pd.read_csv('./datos/MovieReviewsProcesado.csv')\n",
    "\n",
    "# Mostramos las primeras filas\n",
    "df_peliculas.head()"
   ]
  },
  {
   "attachments": {},
   "cell_type": "markdown",
   "metadata": {},
   "source": [
    "## Modelo Naive Bayes"
   ]
  },
  {
   "attachments": {},
   "cell_type": "markdown",
   "metadata": {},
   "source": [
    "EL Modelo Naive Bayes es una buena opción para el objetivo del proyecto debido a su capacidad para trabajar con datos de texto. La clasificación de comentarios de películas se puede ver como una tarea de clasificación de texto, en la que los comentarios son el texto y la etiqueta de \"positivo\" o \"negativo\" es la clase a predecir."
   ]
  },
  {
   "attachments": {},
   "cell_type": "markdown",
   "metadata": {},
   "source": [
    "### Comenzamos a construir el modelo"
   ]
  },
  {
   "attachments": {},
   "cell_type": "markdown",
   "metadata": {},
   "source": [
    "El conjunto de datos se divide en partes de entrenamiento y prueba, siendo el 80% para entrenamiento y el 20% para prueba."
   ]
  },
  {
   "cell_type": "code",
   "execution_count": 199,
   "metadata": {},
   "outputs": [],
   "source": [
    "# Se selecciona la variable objetivo, en este caso \"sentimiento\".\n",
    "Y = df_peliculas['sentimiento']\n",
    "\n",
    "# Del conjunto de datos se elimina la variable \"processed_text\"\n",
    "X = df_peliculas.drop(['sentimiento'], axis=1)\n",
    "\n",
    "# Se selecciona la variable \"processed_text\"\n",
    "X = X['processed_text']\n",
    "\n",
    "# Dividir los datos en entrenamiento y test\n",
    "X_train, X_test, Y_train, Y_test = train_test_split(X, Y, test_size=0.3, random_state=42)"
   ]
  },
  {
   "cell_type": "code",
   "execution_count": 200,
   "metadata": {},
   "outputs": [
    {
     "data": {
      "text/plain": [
       "((3498,), (3498,))"
      ]
     },
     "execution_count": 200,
     "metadata": {},
     "output_type": "execute_result"
    }
   ],
   "source": [
    "X_train.shape, Y_train.shape"
   ]
  },
  {
   "cell_type": "code",
   "execution_count": 201,
   "metadata": {},
   "outputs": [
    {
     "data": {
      "text/plain": [
       "((1500,), (1500,))"
      ]
     },
     "execution_count": 201,
     "metadata": {},
     "output_type": "execute_result"
    }
   ],
   "source": [
    "X_test.shape, Y_test.shape"
   ]
  },
  {
   "attachments": {},
   "cell_type": "markdown",
   "metadata": {},
   "source": [
    "Vectorizar los comentarios de películas utilizando el método CountVectorizer"
   ]
  },
  {
   "cell_type": "code",
   "execution_count": 202,
   "metadata": {},
   "outputs": [],
   "source": [
    "def tokenize(text):\n",
    "    tokenizer = nltk.TweetTokenizer()\n",
    "    return tokenizer.tokenize(text)\n",
    "\n",
    "# Creamos el objeto CountVectorizer\n",
    "count_vect = CountVectorizer(tokenizer=tokenize, stop_words=stop_words)\n",
    "\n",
    "# Transformamos el conjunto de entrenamiento\n",
    "X_train = count_vect.fit_transform(X_train)\n",
    "\n",
    "# transformamos el conjunto de test\n",
    "X_test = count_vect.transform(X_test)\n"
   ]
  },
  {
   "attachments": {},
   "cell_type": "markdown",
   "metadata": {},
   "source": [
    "Entrenar el modelo"
   ]
  },
  {
   "cell_type": "code",
   "execution_count": 203,
   "metadata": {},
   "outputs": [
    {
     "data": {
      "text/plain": [
       "MultinomialNB()"
      ]
     },
     "execution_count": 203,
     "metadata": {},
     "output_type": "execute_result"
    }
   ],
   "source": [
    "nb = MultinomialNB()\n",
    "nb.fit(X_train, Y_train)"
   ]
  },
  {
   "attachments": {},
   "cell_type": "markdown",
   "metadata": {},
   "source": [
    "Predecir las etiquetas de los comentarios de prueba"
   ]
  },
  {
   "cell_type": "code",
   "execution_count": 204,
   "metadata": {},
   "outputs": [],
   "source": [
    "Y_pred = nb.predict(X_test)"
   ]
  },
  {
   "attachments": {},
   "cell_type": "markdown",
   "metadata": {},
   "source": [
    "Calcular la precisión del modelo"
   ]
  },
  {
   "cell_type": "code",
   "execution_count": 205,
   "metadata": {},
   "outputs": [
    {
     "name": "stdout",
     "output_type": "stream",
     "text": [
      "Exactitud: 0.82\n",
      "Recall: 0.7575360419397117\n",
      "Precisión: 0.8639760837070254\n",
      "Puntuación F1: 0.8072625698324023\n"
     ]
    }
   ],
   "source": [
    "print('Exactitud: %.2f' % accuracy_score(Y_test, Y_pred))\n",
    "print(\"Recall: {}\".format(recall_score(Y_test,Y_pred)))\n",
    "print(\"Precisión: {}\".format(precision_score(Y_test,Y_pred)))\n",
    "print(\"Puntuación F1: {}\".format(f1_score(Y_test,Y_pred)))"
   ]
  },
  {
   "attachments": {},
   "cell_type": "markdown",
   "metadata": {},
   "source": [
    "Reporte de clasificacion\n"
   ]
  },
  {
   "cell_type": "code",
   "execution_count": 206,
   "metadata": {},
   "outputs": [
    {
     "name": "stdout",
     "output_type": "stream",
     "text": [
      "              precision    recall  f1-score   support\n",
      "\n",
      "           0       0.78      0.88      0.82       737\n",
      "           1       0.86      0.76      0.81       763\n",
      "\n",
      "    accuracy                           0.82      1500\n",
      "   macro avg       0.82      0.82      0.82      1500\n",
      "weighted avg       0.82      0.82      0.82      1500\n",
      "\n"
     ]
    }
   ],
   "source": [
    "print(classification_report(Y_test, Y_pred))"
   ]
  },
  {
   "attachments": {},
   "cell_type": "markdown",
   "metadata": {},
   "source": [
    "### Interpretación:\n",
    "\n",
    "El modelo presenta unos buenos puntajes en las metricas de rendimiento y podria bueno para el cumplimiento de los objetivos del proyecto. Sin embargo, es importante tener en cuenta que el Modelo Naive Bayes asume la independencia condicional entre las características de los datos, lo que puede no ser cierto para el lenguaje natural. Por lo tanto, aunque el modelo puede funcionar bien para clasificar comentarios de películas como positivos o negativos, la precisión del modelo puede verse afectada por factores como la ambigüedad en el lenguaje y el sarcasmo."
   ]
  }
 ],
 "metadata": {
  "kernelspec": {
   "display_name": "base",
   "language": "python",
   "name": "python3"
  },
  "language_info": {
   "codemirror_mode": {
    "name": "ipython",
    "version": 3
   },
   "file_extension": ".py",
   "mimetype": "text/x-python",
   "name": "python",
   "nbconvert_exporter": "python",
   "pygments_lexer": "ipython3",
   "version": "3.9.13"
  },
  "orig_nbformat": 4
 },
 "nbformat": 4,
 "nbformat_minor": 2
}
