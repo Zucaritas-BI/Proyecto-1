{
 "cells": [
  {
   "attachments": {},
   "cell_type": "markdown",
   "metadata": {},
   "source": [
    "# Proyecto 1 - Analítica de textos \n",
    "## Análisis de sentimientos en películas\n",
    "\n",
    "### Integrantes:\n",
    "- Daniel Aguilera\n",
    "- Vanessa Martínez\n",
    "- Cristian Sánchez\n",
    "\n",
    "### Descripción del problema\n",
    "El objetivo de este notebook es realizar el desarrollo de la etapa 2 para el cual, se llevara acabo el analisis de sentimiento de las opiniones de las peliculas que se encuentran en el dataset MovieReviews.csv, para este fin se utilizara un modelo de redes neuronales para clasificar las opiniones en positivas y negativas. \n",
    "\n",
    "Se usara un modelo implementado usando redes neuronales debido a que este tipo de modelos son muy efectivos para el analisis de sentimientos, ya que son capaces de aprender patrones en los datos y asi poder clasificarlos de manera correcta.\n",
    "\n",
    "## Referencias\n",
    "1. [Datos a utilizar: MovieReviews.csv](./datos/MovieReviews.csv)\n",
    "2. [Diccionario de datos: DiccionarioPeliculas.xlsx](./datos/DiccionarioPeliculas.xlsx)\n",
    "3. [Datos de prueba: MovieReviewsPruebas.csv](./datos/MovieReviewsPruebas.csv)\n",
    "4. [Datos procesados: MovieReviewsProcesado.csv](./datos/MovieReviewsProcesado.csv)\n",
    "5. [Notebook de procesamiento y entendimiento de datos](./proy_desarrollo.ipynb)\n",
    "6. [Información del negocio](./datos/enunciado.pdf)\n",
    "\n"
   ]
  },
  {
   "cell_type": "code",
   "execution_count": 8,
   "metadata": {},
   "outputs": [],
   "source": [
    "# Realizamos los imports necesarios\n",
    "import numpy as np\n",
    "import pandas as pd\n",
    "import matplotlib.pyplot as plt\n",
    "import seaborn as sns\n",
    "\n",
    "# Importamos MLP para crear la red neuronal\n",
    "from sklearn.neural_network import MLPClassifier\n",
    "\n",
    "from sklearn.model_selection import train_test_split\n",
    "from sklearn.metrics import accuracy_score\n",
    "from sklearn.metrics import confusion_matrix\n",
    "from sklearn.metrics import classification_report"
   ]
  },
  {
   "attachments": {},
   "cell_type": "markdown",
   "metadata": {},
   "source": [
    "### Una vez importadas las librerias necesarias, se procede a cargar los datos preprocessados en el notebook anterior"
   ]
  },
  {
   "cell_type": "code",
   "execution_count": 9,
   "metadata": {},
   "outputs": [
    {
     "data": {
      "text/html": [
       "<div>\n",
       "<style scoped>\n",
       "    .dataframe tbody tr th:only-of-type {\n",
       "        vertical-align: middle;\n",
       "    }\n",
       "\n",
       "    .dataframe tbody tr th {\n",
       "        vertical-align: top;\n",
       "    }\n",
       "\n",
       "    .dataframe thead th {\n",
       "        text-align: right;\n",
       "    }\n",
       "</style>\n",
       "<table border=\"1\" class=\"dataframe\">\n",
       "  <thead>\n",
       "    <tr style=\"text-align: right;\">\n",
       "      <th></th>\n",
       "      <th>Unnamed: 0</th>\n",
       "      <th>review_es</th>\n",
       "      <th>sentimiento</th>\n",
       "      <th>processed_text</th>\n",
       "    </tr>\n",
       "  </thead>\n",
       "  <tbody>\n",
       "    <tr>\n",
       "      <th>0</th>\n",
       "      <td>0</td>\n",
       "      <td>Si está buscando una película de guerra típica...</td>\n",
       "      <td>1</td>\n",
       "      <td>si busc pelicul guerr tipic asi not aficion gu...</td>\n",
       "    </tr>\n",
       "    <tr>\n",
       "      <th>1</th>\n",
       "      <td>1</td>\n",
       "      <td>Supongo que algunos directores de películas de...</td>\n",
       "      <td>1</td>\n",
       "      <td>supon director pelicul luj sent busc abrig gra...</td>\n",
       "    </tr>\n",
       "    <tr>\n",
       "      <th>2</th>\n",
       "      <td>2</td>\n",
       "      <td>Es difícil contarle más sobre esta película si...</td>\n",
       "      <td>1</td>\n",
       "      <td>dificil contar el mas pelicul estropearlal dis...</td>\n",
       "    </tr>\n",
       "    <tr>\n",
       "      <th>3</th>\n",
       "      <td>3</td>\n",
       "      <td>La película comienza muy lentamente, con el es...</td>\n",
       "      <td>1</td>\n",
       "      <td>pelicul comenz lent estil vid wallac napalm as...</td>\n",
       "    </tr>\n",
       "    <tr>\n",
       "      <th>4</th>\n",
       "      <td>4</td>\n",
       "      <td>Esta película es verdadera acción en su máxima...</td>\n",
       "      <td>1</td>\n",
       "      <td>pelicul verdader accion maxim expresion mejor ...</td>\n",
       "    </tr>\n",
       "  </tbody>\n",
       "</table>\n",
       "</div>"
      ],
      "text/plain": [
       "   Unnamed: 0                                          review_es  sentimiento  \\\n",
       "0           0  Si está buscando una película de guerra típica...            1   \n",
       "1           1  Supongo que algunos directores de películas de...            1   \n",
       "2           2  Es difícil contarle más sobre esta película si...            1   \n",
       "3           3  La película comienza muy lentamente, con el es...            1   \n",
       "4           4  Esta película es verdadera acción en su máxima...            1   \n",
       "\n",
       "                                      processed_text  \n",
       "0  si busc pelicul guerr tipic asi not aficion gu...  \n",
       "1  supon director pelicul luj sent busc abrig gra...  \n",
       "2  dificil contar el mas pelicul estropearlal dis...  \n",
       "3  pelicul comenz lent estil vid wallac napalm as...  \n",
       "4  pelicul verdader accion maxim expresion mejor ...  "
      ]
     },
     "execution_count": 9,
     "metadata": {},
     "output_type": "execute_result"
    }
   ],
   "source": [
    "# Cargamos el dataset\n",
    "df_peliculas = pd.read_csv('./datos/MovieReviewsProcesado.csv')\n",
    "\n",
    "# Mostramos las primeras filas\n",
    "df_peliculas.head()"
   ]
  }
 ],
 "metadata": {
  "kernelspec": {
   "display_name": "base",
   "language": "python",
   "name": "python3"
  },
  "language_info": {
   "codemirror_mode": {
    "name": "ipython",
    "version": 3
   },
   "file_extension": ".py",
   "mimetype": "text/x-python",
   "name": "python",
   "nbconvert_exporter": "python",
   "pygments_lexer": "ipython3",
   "version": "3.9.13"
  },
  "orig_nbformat": 4
 },
 "nbformat": 4,
 "nbformat_minor": 2
}
