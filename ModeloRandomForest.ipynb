{
 "cells": [
  {
   "attachments": {},
   "cell_type": "markdown",
   "metadata": {},
   "source": [
    "# Proyecto 1 - Analítica de textos \n",
    "## Análisis de sentimientos en películas\n",
    "\n",
    "### Integrantes:\n",
    "- Daniel Aguilera\n",
    "- Vanessa Martínez\n",
    "- Cristian Sánchez\n",
    "\n",
    "### Descripción del problema\n",
    "El objetivo de este notebook es realizar el desarrollo de la etapa 2 para el cual, se llevara acabo el analisis de sentimiento de las opiniones de las peliculas que se encuentran en el dataset MovieReviews.csv, para este fin se utilizara un modelo de ***random forest*** para clasificar las opiniones en positivas y negativas. \n",
    "\n",
    "Se usara un modelo implementado usando ***random forest*** debido a que este modelo es uno de los mas utilizados para este tipo de problemas, ademas de que es un modelo que se puede entrenar de manera rapida y que no requiere de mucha configuracion para obtener buenos resultados.\n",
    "\n",
    "## Referencias\n",
    "1. [Datos a utilizar: MovieReviews.csv](./datos/MovieReviews.csv)\n",
    "2. [Diccionario de datos: DiccionarioPeliculas.xlsx](./datos/DiccionarioPeliculas.xlsx)\n",
    "3. [Datos de prueba: MovieReviewsPruebas.csv](./datos/MovieReviewsPruebas.csv)\n",
    "4. [Datos procesados: MovieReviewsProcesado.csv](./datos/MovieReviewsProcesado.csv)\n",
    "5. [Notebook de procesamiento y entendimiento de datos](./proy_desarrollo.ipynb)\n",
    "6. [Información del negocio](./datos/enunciado.pdf)"
   ]
  },
  {
   "attachments": {},
   "cell_type": "markdown",
   "metadata": {},
   "source": [
    "### Importar librerias"
   ]
  },
  {
   "cell_type": "code",
   "execution_count": 2,
   "metadata": {},
   "outputs": [],
   "source": [
    "#Importar librerias\n",
    "import pandas as pd\n",
    "import numpy as np\n",
    "import matplotlib.pyplot as plt\n",
    "import seaborn as sns\n",
    "from sklearn.model_selection import train_test_split\n",
    "from sklearn.ensemble import RandomForestClassifier\n",
    "from sklearn.metrics import classification_report, confusion_matrix\n",
    "\n"
   ]
  },
  {
   "attachments": {},
   "cell_type": "markdown",
   "metadata": {},
   "source": [
    "## Carga de datos ya procesados"
   ]
  },
  {
   "cell_type": "code",
   "execution_count": 3,
   "metadata": {},
   "outputs": [
    {
     "data": {
      "text/html": [
       "<div>\n",
       "<style scoped>\n",
       "    .dataframe tbody tr th:only-of-type {\n",
       "        vertical-align: middle;\n",
       "    }\n",
       "\n",
       "    .dataframe tbody tr th {\n",
       "        vertical-align: top;\n",
       "    }\n",
       "\n",
       "    .dataframe thead th {\n",
       "        text-align: right;\n",
       "    }\n",
       "</style>\n",
       "<table border=\"1\" class=\"dataframe\">\n",
       "  <thead>\n",
       "    <tr style=\"text-align: right;\">\n",
       "      <th></th>\n",
       "      <th>review_es</th>\n",
       "      <th>sentimiento</th>\n",
       "      <th>processed_text</th>\n",
       "    </tr>\n",
       "  </thead>\n",
       "  <tbody>\n",
       "    <tr>\n",
       "      <th>0</th>\n",
       "      <td>Si está buscando una película de guerra típica...</td>\n",
       "      <td>1</td>\n",
       "      <td>si busc pelicul guerr tipic asi not aficion gu...</td>\n",
       "    </tr>\n",
       "    <tr>\n",
       "      <th>1</th>\n",
       "      <td>Supongo que algunos directores de películas de...</td>\n",
       "      <td>1</td>\n",
       "      <td>supon director pelicul luj sent busc abrig gra...</td>\n",
       "    </tr>\n",
       "    <tr>\n",
       "      <th>2</th>\n",
       "      <td>Es difícil contarle más sobre esta película si...</td>\n",
       "      <td>1</td>\n",
       "      <td>dificil contar el mas pelicul estropearlal dis...</td>\n",
       "    </tr>\n",
       "    <tr>\n",
       "      <th>3</th>\n",
       "      <td>La película comienza muy lentamente, con el es...</td>\n",
       "      <td>1</td>\n",
       "      <td>pelicul comenz lent estil vid wallac napalm as...</td>\n",
       "    </tr>\n",
       "    <tr>\n",
       "      <th>4</th>\n",
       "      <td>Esta película es verdadera acción en su máxima...</td>\n",
       "      <td>1</td>\n",
       "      <td>pelicul verdader accion maxim expresion mejor ...</td>\n",
       "    </tr>\n",
       "  </tbody>\n",
       "</table>\n",
       "</div>"
      ],
      "text/plain": [
       "                                           review_es  sentimiento  \\\n",
       "0  Si está buscando una película de guerra típica...            1   \n",
       "1  Supongo que algunos directores de películas de...            1   \n",
       "2  Es difícil contarle más sobre esta película si...            1   \n",
       "3  La película comienza muy lentamente, con el es...            1   \n",
       "4  Esta película es verdadera acción en su máxima...            1   \n",
       "\n",
       "                                      processed_text  \n",
       "0  si busc pelicul guerr tipic asi not aficion gu...  \n",
       "1  supon director pelicul luj sent busc abrig gra...  \n",
       "2  dificil contar el mas pelicul estropearlal dis...  \n",
       "3  pelicul comenz lent estil vid wallac napalm as...  \n",
       "4  pelicul verdader accion maxim expresion mejor ...  "
      ]
     },
     "execution_count": 3,
     "metadata": {},
     "output_type": "execute_result"
    }
   ],
   "source": [
    "#Cargar el dataset\n",
    "df_movies = pd.read_csv('./datos/MovieReviewsProcesado.csv')\n",
    "\n",
    "#Elimiar la columna Unnamed: 0\n",
    "df_movies = df_movies.drop(['Unnamed: 0'], axis=1)\n",
    "\n",
    "#Visualizar el dataset\n",
    "df_movies.head()\n"
   ]
  },
  {
   "attachments": {},
   "cell_type": "markdown",
   "metadata": {},
   "source": [
    "## Preparación de datos para el entrenamiento\n",
    "\n",
    "En este paso se preparan los datos para el entrenamiento del modelo, se separan los datos en entrenamiento y prueba."
   ]
  },
  {
   "cell_type": "code",
   "execution_count": 4,
   "metadata": {},
   "outputs": [
    {
     "name": "stdout",
     "output_type": "stream",
     "text": [
      "Data distribution:\n",
      "- Train: 2499 \n",
      "- Validation: 1249 \n",
      "- Test: 1250\n"
     ]
    }
   ],
   "source": [
    "from sklearn.model_selection import train_test_split\n",
    "\n",
    "#Separar los datos en train y test\n",
    "features = df_movies.drop(['sentimiento'], axis=1)\n",
    "labels = df_movies['sentimiento']\n",
    "\n",
    "X_train, X_test, y_train, y_test = train_test_split(features, labels, test_size=0.5, random_state=42)\n",
    "X_val, X_test, y_val, y_test = train_test_split(X_test, y_test, test_size=0.5, random_state=42)\n",
    "#Visualizar la distribucion de los datos\n",
    "print(\"Data distribution:\\n- Train: {} \\n- Validation: {} \\n- Test: {}\".format(len(y_train),len(y_val),len(y_test)))"
   ]
  },
  {
   "attachments": {},
   "cell_type": "markdown",
   "metadata": {},
   "source": [
    "## Vectorización de datos\n",
    "\n",
    "En este paso se vectorizan los datos para poder entrenar el modelo. Se utilizará TF-IDF para vectorizar los datos, ya que este método es uno de los mas utilizados para este tipo de problemas."
   ]
  },
  {
   "cell_type": "code",
   "execution_count": 5,
   "metadata": {},
   "outputs": [],
   "source": [
    "from sklearn.feature_extraction.text import TfidfVectorizer\n",
    "\n",
    "def vectorize_text(data, vectorizer):\n",
    "    X_vector = vectorizer.transform(data)\n",
    "    words = vectorizer.get_feature_names()\n",
    "    X_vector_df = pd.DataFrame(X_vector.toarray())\n",
    "    X_vector_df.columns = words\n",
    "    \n",
    "    return(X_vector_df)"
   ]
  },
  {
   "cell_type": "code",
   "execution_count": 6,
   "metadata": {},
   "outputs": [
    {
     "name": "stderr",
     "output_type": "stream",
     "text": [
      "c:\\Users\\crist\\anaconda3\\lib\\site-packages\\sklearn\\utils\\deprecation.py:87: FutureWarning: Function get_feature_names is deprecated; get_feature_names is deprecated in 1.0 and will be removed in 1.2. Please use get_feature_names_out instead.\n",
      "  warnings.warn(msg, category=FutureWarning)\n",
      "c:\\Users\\crist\\anaconda3\\lib\\site-packages\\sklearn\\utils\\deprecation.py:87: FutureWarning: Function get_feature_names is deprecated; get_feature_names is deprecated in 1.0 and will be removed in 1.2. Please use get_feature_names_out instead.\n",
      "  warnings.warn(msg, category=FutureWarning)\n"
     ]
    }
   ],
   "source": [
    "tfidf_vector = TfidfVectorizer()\n",
    "tfidf_vector_fit = tfidf_vector.fit(X_train['processed_text'])\n",
    "X_train = vectorize_text(X_train['processed_text'], tfidf_vector_fit)\n",
    "\n",
    "# vectorizar conjunto de prueba\n",
    "X_test = vectorize_text(X_test['processed_text'], tfidf_vector_fit)\n",
    "\n"
   ]
  },
  {
   "attachments": {},
   "cell_type": "markdown",
   "metadata": {},
   "source": [
    "## Prueba de modelo\n",
    "\n",
    "En este paso se prueba el modelo con los datos ya vectorizados y se obtiene el resultado de la predicción."
   ]
  },
  {
   "cell_type": "code",
   "execution_count": 7,
   "metadata": {},
   "outputs": [
    {
     "name": "stdout",
     "output_type": "stream",
     "text": [
      "[0.77       0.786      0.79       0.766      0.79759519]\n"
     ]
    },
    {
     "data": {
      "text/plain": [
       "0.7819190380761524"
      ]
     },
     "execution_count": 7,
     "metadata": {},
     "output_type": "execute_result"
    }
   ],
   "source": [
    "from sklearn.ensemble import RandomForestClassifier\n",
    "from sklearn.model_selection import cross_val_score\n",
    "\n",
    "rf = RandomForestClassifier()\n",
    "scores = cross_val_score(rf, X_train, y_train.values.ravel(), cv=5)\n",
    "print (scores)\n",
    "scores.mean()"
   ]
  },
  {
   "attachments": {},
   "cell_type": "markdown",
   "metadata": {},
   "source": [
    "## Busqueda de hiperparametros\n",
    "\n",
    "En este paso se busca el mejor modelo para el problema, para esto se realizara una busqueda de hiperparametros, para esto se utilizara la libreria ***GridSearchCV*** de ***sklearn***.\n"
   ]
  },
  {
   "cell_type": "code",
   "execution_count": 8,
   "metadata": {},
   "outputs": [],
   "source": [
    "def print_results(results):\n",
    "    print('BEST PARAMS: {}\\n'.format(results.best_params_))\n",
    "\n",
    "    means = results.cv_results_['mean_test_score']\n",
    "    stds = results.cv_results_['std_test_score']\n",
    "    for mean, std, params in zip(means, stds, results.cv_results_['params']):\n",
    "        print('{} (+/-{}) for {}'.format(round(mean, 3), round(std * 2, 3), params))"
   ]
  },
  {
   "cell_type": "code",
   "execution_count": 10,
   "metadata": {},
   "outputs": [
    {
     "name": "stdout",
     "output_type": "stream",
     "text": [
      "BEST PARAMS: {'max_depth': 20, 'n_estimators': 100}\n",
      "\n",
      "0.552 (+/-0.097) for {'max_depth': 2, 'n_estimators': 5}\n",
      "0.619 (+/-0.047) for {'max_depth': 2, 'n_estimators': 50}\n",
      "0.604 (+/-0.06) for {'max_depth': 2, 'n_estimators': 100}\n",
      "0.652 (+/-0.063) for {'max_depth': 10, 'n_estimators': 5}\n",
      "0.757 (+/-0.018) for {'max_depth': 10, 'n_estimators': 50}\n",
      "0.774 (+/-0.026) for {'max_depth': 10, 'n_estimators': 100}\n",
      "0.666 (+/-0.045) for {'max_depth': 20, 'n_estimators': 5}\n",
      "0.77 (+/-0.043) for {'max_depth': 20, 'n_estimators': 50}\n",
      "0.787 (+/-0.034) for {'max_depth': 20, 'n_estimators': 100}\n",
      "0.648 (+/-0.055) for {'max_depth': None, 'n_estimators': 5}\n",
      "0.766 (+/-0.044) for {'max_depth': None, 'n_estimators': 50}\n",
      "0.775 (+/-0.038) for {'max_depth': None, 'n_estimators': 100}\n"
     ]
    }
   ],
   "source": [
    "from sklearn.model_selection import GridSearchCV\n",
    "\n",
    "rf = RandomForestClassifier()\n",
    "parameters = {\n",
    "    'n_estimators': [5,50,100],\n",
    "    'max_depth': [2,10,20,None]\n",
    "}\n",
    "\n",
    "cv = GridSearchCV(rf, parameters)\n",
    "cv.fit(X_train, y_train.values.ravel())\n",
    "\n",
    "print_results(cv)\n"
   ]
  },
  {
   "cell_type": "code",
   "execution_count": 11,
   "metadata": {},
   "outputs": [
    {
     "data": {
      "text/plain": [
       "RandomForestClassifier(max_depth=20)"
      ]
     },
     "execution_count": 11,
     "metadata": {},
     "output_type": "execute_result"
    }
   ],
   "source": [
    "#Se identifica el mejor modelo \n",
    "cv.best_estimator_"
   ]
  },
  {
   "attachments": {},
   "cell_type": "markdown",
   "metadata": {},
   "source": [
    "## Evaluación del modelo\n",
    "\n"
   ]
  },
  {
   "cell_type": "code",
   "execution_count": 12,
   "metadata": {},
   "outputs": [
    {
     "name": "stderr",
     "output_type": "stream",
     "text": [
      "c:\\Users\\crist\\anaconda3\\lib\\site-packages\\sklearn\\utils\\deprecation.py:87: FutureWarning: Function get_feature_names is deprecated; get_feature_names is deprecated in 1.0 and will be removed in 1.2. Please use get_feature_names_out instead.\n",
      "  warnings.warn(msg, category=FutureWarning)\n"
     ]
    },
    {
     "data": {
      "text/plain": [
       "RandomForestClassifier(n_estimators=5)"
      ]
     },
     "execution_count": 12,
     "metadata": {},
     "output_type": "execute_result"
    }
   ],
   "source": [
    "X_val = vectorize_text(X_val['processed_text'], tfidf_vector_fit)\n",
    "\n",
    "rf1 = RandomForestClassifier(n_estimators=100,max_depth=20)\n",
    "rf1.fit(X_train, y_train.values.ravel())\n",
    "\n",
    "rf2 = RandomForestClassifier(n_estimators=100,max_depth=None)\n",
    "rf2.fit(X_train, y_train.values.ravel())\n",
    "\n",
    "rf3 = RandomForestClassifier(n_estimators=5,max_depth=None)\n",
    "rf3.fit(X_train, y_train.values.ravel())"
   ]
  },
  {
   "cell_type": "code",
   "execution_count": 13,
   "metadata": {},
   "outputs": [
    {
     "name": "stdout",
     "output_type": "stream",
     "text": [
      "MAX DEPTH: 20 / # OF EST: 100 -- A: 0.806 / P: 0.845 / R: 0.757\n",
      "MAX DEPTH: None / # OF EST: 100 -- A: 0.796 / P: 0.824 / R: 0.76\n",
      "MAX DEPTH: None / # OF EST: 5 -- A: 0.651 / P: 0.657 / R: 0.653\n"
     ]
    }
   ],
   "source": [
    "from sklearn.metrics import accuracy_score,precision_score,recall_score\n",
    "\n",
    "for mdl in [rf1,rf2,rf3]:\n",
    "    y_pred = mdl.predict(X_test)\n",
    "    accuracy = round(accuracy_score(y_test, y_pred), 3)\n",
    "    precision = round(precision_score(y_test, y_pred), 3)\n",
    "    recall = round(recall_score(y_test, y_pred), 3)\n",
    "    print('MAX DEPTH: {} / # OF EST: {} -- A: {} / P: {} / R: {}'.format(mdl.max_depth,\n",
    "                                                                         mdl.n_estimators,\n",
    "                                                                         accuracy,\n",
    "                                                                         precision,\n",
    "                                                                         recall))"
   ]
  },
  {
   "attachments": {},
   "cell_type": "markdown",
   "metadata": {},
   "source": [
    "Podemos fijarnos que las caracteristicas que mejoran el modelo son:\n",
    "* MAX_DEPTH: 20\n",
    "* N_ESTIMATORS: 100\n",
    "\n",
    "Por lo que se procede a entrenar el modelo con estos hiperparametros."
   ]
  },
  {
   "cell_type": "code",
   "execution_count": 15,
   "metadata": {},
   "outputs": [
    {
     "name": "stdout",
     "output_type": "stream",
     "text": [
      "MAX DEPTH: 20 / # OF EST: 100 -- A: 0.806 / P: 0.845 / R: 0.757\n"
     ]
    }
   ],
   "source": [
    "#Evaluamos el modelo con los mejores parametros\n",
    "\n",
    "y_pred = rf1.predict(X_test)\n",
    "accuracy = round(accuracy_score(y_test, y_pred), 3)\n",
    "precision = round(precision_score(y_test, y_pred), 3)\n",
    "recall = round(recall_score(y_test, y_pred), 3)\n",
    "print('MAX DEPTH: {} / # OF EST: {} -- A: {} / P: {} / R: {}'.format(rf1.max_depth,\n",
    "                                                                        rf1.n_estimators,\n",
    "                                                                        accuracy,\n",
    "                                                                        precision,\n",
    "                                                                        recall))"
   ]
  },
  {
   "attachments": {},
   "cell_type": "markdown",
   "metadata": {},
   "source": [
    "## Conclusiones del modelo\n",
    "Luego de probado el modelo procedemos a encontrar las palabras más importantes para el modelo. Esto se realiza con el fin de entender que palabras son las que más influyen en la predicción del modelo."
   ]
  },
  {
   "cell_type": "code",
   "execution_count": 20,
   "metadata": {},
   "outputs": [
    {
     "data": {
      "image/png": "[encoded data removed]",
      "text/plain": [
       "<Figure size 1000x1000 with 1 Axes>"
      ]
     },
     "metadata": {},
     "output_type": "display_data"
    }
   ],
   "source": [
    "feat_importances = pd.Series(rf1.feature_importances_, index=X_train.columns)\n",
    "feat_importances.nlargest(20).plot(kind='bar', figsize=(10,10))\n",
    "plt.title('Top 20 features')\n",
    "plt.xlabel('Features')\n",
    "plt.ylabel('Importance')\n",
    "plt.show()"
   ]
  },
  {
   "attachments": {},
   "cell_type": "markdown",
   "metadata": {},
   "source": [
    "## Observaciones\n",
    "\n",
    "Podemos ver que el modelo predice correctamente el 80% de las opiniones, lo cual es un buen resultado para este tipo de problemas. Además, la se reconoce que las palabras más importantes para el modelo son adjetivos positivos y negativos, lo cual es esperado ya que estos son los que más influyen en la predicción del modelo.\n",
    "\n",
    "Por otro lado, al encontrar los mejores hiperparametros para el modelo, se puede observar que el modelo mejora su rendimiento al aumentar la profundidad del arbol y el numero de estimadores, lo cual es esperado ya que al aumentar estos valores se aumenta la complejidad del modelo, lo cual mejora su rendimiento. Obteniendo así una mejor predicción.\n"
   ]
  }
 ],
 "metadata": {
  "kernelspec": {
   "display_name": "base",
   "language": "python",
   "name": "python3"
  },
  "language_info": {
   "codemirror_mode": {
    "name": "ipython",
    "version": 3
   },
   "file_extension": ".py",
   "mimetype": "text/x-python",
   "name": "python",
   "nbconvert_exporter": "python",
   "pygments_lexer": "ipython3",
   "version": "3.9.13"
  },
  "orig_nbformat": 4,
  "vscode": {
   "interpreter": {
    "hash": "9470b8784b959759c7c699b367576c0be7b48eef9ff58c8b0d64956fc07e03c6"
   }
  }
 },
 "nbformat": 4,
 "nbformat_minor": 2
}
